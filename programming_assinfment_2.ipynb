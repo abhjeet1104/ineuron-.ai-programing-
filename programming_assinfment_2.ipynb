{
  "nbformat": 4,
  "nbformat_minor": 0,
  "metadata": {
    "colab": {
      "provenance": []
    },
    "kernelspec": {
      "name": "python3",
      "display_name": "Python 3"
    },
    "language_info": {
      "name": "python"
    }
  },
  "cells": [
    {
      "cell_type": "markdown",
      "source": [
        "#1.\tWrite a Python program to convert kilometers to miles?"
      ],
      "metadata": {
        "id": "rD8xIecZciUq"
      }
    },
    {
      "cell_type": "code",
      "execution_count": 1,
      "metadata": {
        "colab": {
          "base_uri": "https://localhost:8080/"
        },
        "id": "d_0I6S-Pccqb",
        "outputId": "31c2e18f-9a12-4161-9074-ec5864ee9ec9"
      },
      "outputs": [
        {
          "output_type": "stream",
          "name": "stdout",
          "text": [
            "Enter distance in kilometers: 45\n",
            "45.0 kilometers is equal to 27.961695 miles.\n"
          ]
        }
      ],
      "source": [
        "kilometers = float(input(\"Enter distance in kilometers: \"))\n",
        "\n",
        "# Conversion factor\n",
        "conv_factor = 0.621371\n",
        "\n",
        "# Calculate miles\n",
        "miles = kilometers * conv_factor\n",
        "\n",
        "# Display the result\n",
        "print(kilometers, \"kilometers is equal to\", miles, \"miles.\")\n"
      ]
    },
    {
      "cell_type": "markdown",
      "source": [
        "#2.\tWrite a Python program to convert Celsius to Fahrenheit?"
      ],
      "metadata": {
        "id": "FbOW9sDmc9FK"
      }
    },
    {
      "cell_type": "code",
      "source": [
        "celsius = float(input(\"Enter temperature in Celsius: \"))\n",
        "\n",
        "# Conversion formula\n",
        "fahrenheit = (celsius * 1.8) + 32\n",
        "\n",
        "# Display the result\n",
        "print(celsius, \"Celsius is equal to\", fahrenheit, \"Fahrenheit.\")\n"
      ],
      "metadata": {
        "colab": {
          "base_uri": "https://localhost:8080/"
        },
        "id": "UkA_ygnDcx12",
        "outputId": "c5810253-b1be-4190-8ee7-34fd1ee7146c"
      },
      "execution_count": 2,
      "outputs": [
        {
          "output_type": "stream",
          "name": "stdout",
          "text": [
            "Enter temperature in Celsius: 54\n",
            "54.0 Celsius is equal to 129.2 Fahrenheit.\n"
          ]
        }
      ]
    },
    {
      "cell_type": "markdown",
      "source": [
        "#3.\tWrite a Python program to display calendar"
      ],
      "metadata": {
        "id": "Ocaz3fB2dQgN"
      }
    },
    {
      "cell_type": "code",
      "source": [
        "import calendar\n",
        "\n",
        "# Prompt the user to enter the month and year\n",
        "year = int(input(\"Enter the year: \"))\n",
        "month = int(input(\"Enter the month: \"))\n",
        "\n",
        "# Display the calendar\n",
        "print(calendar.month(year, month))\n"
      ],
      "metadata": {
        "colab": {
          "base_uri": "https://localhost:8080/"
        },
        "id": "OgxDgw9ZdIRm",
        "outputId": "0396d7bb-b6fe-4fb7-fc25-321155249c37"
      },
      "execution_count": 3,
      "outputs": [
        {
          "output_type": "stream",
          "name": "stdout",
          "text": [
            "Enter the year: 2023\n",
            "Enter the month: 03\n",
            "     March 2023\n",
            "Mo Tu We Th Fr Sa Su\n",
            "       1  2  3  4  5\n",
            " 6  7  8  9 10 11 12\n",
            "13 14 15 16 17 18 19\n",
            "20 21 22 23 24 25 26\n",
            "27 28 29 30 31\n",
            "\n"
          ]
        }
      ]
    },
    {
      "cell_type": "markdown",
      "source": [
        "#4.\tWrite a Python program to solve quadratic equation?"
      ],
      "metadata": {
        "id": "adteIp_ddoZT"
      }
    },
    {
      "cell_type": "code",
      "source": [
        "import cmath\n",
        "\n",
        "a = float(input(\"Enter coefficient a: \"))\n",
        "b = float(input(\"Enter coefficient b: \"))\n",
        "c = float(input(\"Enter coefficient c: \"))\n",
        "\n",
        "# Calculate the discriminant\n",
        "d = (b**2) - (4*a*c)\n",
        "\n",
        "# Find the two solutions\n",
        "sol1 = (-b - cmath.sqrt(d)) / (2*a)\n",
        "sol2 = (-b + cmath.sqrt(d)) / (2*a)\n",
        "\n",
        "# Display the results\n",
        "print(\"The solutions are {0} and {1}\".format(sol1, sol2))\n"
      ],
      "metadata": {
        "colab": {
          "base_uri": "https://localhost:8080/"
        },
        "id": "BE0RfEKNdYPp",
        "outputId": "bc980481-181b-4699-a421-34c27e5d72b7"
      },
      "execution_count": 4,
      "outputs": [
        {
          "output_type": "stream",
          "name": "stdout",
          "text": [
            "Enter coefficient a: 88\n",
            "Enter coefficient b: 99\n",
            "Enter coefficient c: 77\n",
            "The solutions are (-0.5625-0.7473912964438374j) and (-0.5625+0.7473912964438374j)\n"
          ]
        }
      ]
    },
    {
      "cell_type": "markdown",
      "source": [
        "#5.\tWrite a Python program to swap two variables without temp variable?\n",
        "\n"
      ],
      "metadata": {
        "id": "mka0TlD2d69-"
      }
    },
    {
      "cell_type": "code",
      "source": [
        "a = int(input(\"Enter the first variable: \"))\n",
        "b = int(input(\"Enter the second variable: \"))\n",
        "\n",
        "# Swap the values of a and b\n",
        "a, b = b, a\n",
        "\n",
        "# Display the results\n",
        "print(\"After swapping, the first variable is\", a, \"and the second variable is\", b)\n"
      ],
      "metadata": {
        "colab": {
          "base_uri": "https://localhost:8080/"
        },
        "id": "1oAWjeP5dwx1",
        "outputId": "c9074cf0-d4f7-4591-f159-a9954e050ec8"
      },
      "execution_count": 6,
      "outputs": [
        {
          "output_type": "stream",
          "name": "stdout",
          "text": [
            "Enter the first variable: 3\n",
            "Enter the second variable: 7\n",
            "After swapping, the first variable is 7 and the second variable is 3\n"
          ]
        }
      ]
    },
    {
      "cell_type": "code",
      "source": [],
      "metadata": {
        "id": "LzC74T9OeDxh"
      },
      "execution_count": null,
      "outputs": []
    }
  ]
}