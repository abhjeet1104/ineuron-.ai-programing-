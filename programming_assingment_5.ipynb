{
  "nbformat": 4,
  "nbformat_minor": 0,
  "metadata": {
    "colab": {
      "provenance": []
    },
    "kernelspec": {
      "name": "python3",
      "display_name": "Python 3"
    },
    "language_info": {
      "name": "python"
    }
  },
  "cells": [
    {
      "cell_type": "markdown",
      "source": [
        "#1.\tWrite a Python Program to Find LCM?"
      ],
      "metadata": {
        "id": "bAEu32mMPABf"
      }
    },
    {
      "cell_type": "code",
      "execution_count": 1,
      "metadata": {
        "colab": {
          "base_uri": "https://localhost:8080/"
        },
        "id": "D9DeqaYSOzj4",
        "outputId": "cecff146-540a-46f5-c20f-0be4a5de816c"
      },
      "outputs": [
        {
          "output_type": "stream",
          "name": "stdout",
          "text": [
            "Enter first number: 8\n",
            "Enter second number: 9\n",
            "The LCM of 8 and 9 is 72\n"
          ]
        }
      ],
      "source": [
        "# define a function to find the GCD (Greatest Common Divisor) of two numbers\n",
        "def gcd(a, b):\n",
        "    if b == 0:\n",
        "        return a\n",
        "    else:\n",
        "        return gcd(b, a % b)\n",
        "\n",
        "# define a function to find the LCM of two numbers using their GCD\n",
        "def lcm(a, b):\n",
        "    return (a * b) // gcd(a, b)\n",
        "\n",
        "# taking input from the user\n",
        "num1 = int(input(\"Enter first number: \"))\n",
        "num2 = int(input(\"Enter second number: \"))\n",
        "\n",
        "print(\"The LCM of\", num1, \"and\", num2, \"is\", lcm(num1, num2))\n"
      ]
    },
    {
      "cell_type": "markdown",
      "source": [
        "#2.\tWrite a Python Program to Find HCF?"
      ],
      "metadata": {
        "id": "5uXkqNmIPAsW"
      }
    },
    {
      "cell_type": "code",
      "source": [
        "# define a function to find the HCF of two numbers\n",
        "def hcf(a, b):\n",
        "    if b == 0:\n",
        "        return a\n",
        "    else:\n",
        "        return hcf(b, a % b)\n",
        "\n",
        "# taking input from the user\n",
        "num1 = int(input(\"Enter first number: \"))\n",
        "num2 = int(input(\"Enter second number: \"))\n",
        "\n",
        "print(\"The HCF of\", num1, \"and\", num2, \"is\", hcf(num1, num2))\n"
      ],
      "metadata": {
        "colab": {
          "base_uri": "https://localhost:8080/"
        },
        "id": "GxkBFDk7PBR9",
        "outputId": "fe6d7b5c-e943-4675-b057-d3886212b6cd"
      },
      "execution_count": 2,
      "outputs": [
        {
          "output_type": "stream",
          "name": "stdout",
          "text": [
            "Enter first number: 5\n",
            "Enter second number: 9\n",
            "The HCF of 5 and 9 is 1\n"
          ]
        }
      ]
    },
    {
      "cell_type": "markdown",
      "source": [
        "#3.\tWrite a Python Program to Convert Decimal to Binary, Octal and Hexadecimal?"
      ],
      "metadata": {
        "id": "nPufhiUpQ91z"
      }
    },
    {
      "cell_type": "code",
      "source": [
        "decimal = int(input(\"Enter a decimal number: \"))\n",
        "\n",
        "# convert decimal to binary\n",
        "binary = bin(decimal)[2:]\n",
        "\n",
        "# convert decimal to octal\n",
        "octal = oct(decimal)[2:]\n",
        "\n",
        "# convert decimal to hexadecimal\n",
        "hexadecimal = hex(decimal)[2:]\n",
        "\n",
        "print(\"The binary representation of\", decimal, \"is\", binary)\n",
        "print(\"The octal representation of\", decimal, \"is\", octal)\n",
        "print(\"The hexadecimal representation of\", decimal, \"is\", hexadecimal)\n"
      ],
      "metadata": {
        "colab": {
          "base_uri": "https://localhost:8080/"
        },
        "id": "OYotDvFZQyQI",
        "outputId": "b2f3910c-b10a-49e2-f19a-5d8dc2a1c283"
      },
      "execution_count": 3,
      "outputs": [
        {
          "output_type": "stream",
          "name": "stdout",
          "text": [
            "Enter a decimal number: 45\n",
            "The binary representation of 45 is 101101\n",
            "The octal representation of 45 is 55\n",
            "The hexadecimal representation of 45 is 2d\n"
          ]
        }
      ]
    },
    {
      "cell_type": "markdown",
      "source": [
        "#4.\tWrite a Python Program To Find ASCII value of a character?"
      ],
      "metadata": {
        "id": "vhYCZOdsSF0T"
      }
    },
    {
      "cell_type": "code",
      "source": [
        "char = input(\"Enter a character: \")\n",
        "\n",
        "# find the ASCII value of the character\n",
        "ascii_value = ord(char)\n",
        "\n",
        "print(\"The ASCII value of\", char, \"is\", ascii_value)\n"
      ],
      "metadata": {
        "colab": {
          "base_uri": "https://localhost:8080/"
        },
        "id": "Ixc7k_hORGzO",
        "outputId": "4680955f-8d5f-488a-ee97-d88b5d890d54"
      },
      "execution_count": 4,
      "outputs": [
        {
          "output_type": "stream",
          "name": "stdout",
          "text": [
            "Enter a character: 7\n",
            "The ASCII value of 7 is 55\n"
          ]
        }
      ]
    },
    {
      "cell_type": "markdown",
      "source": [
        "#5.\tWrite a Python Program to Make a Simple Calculator with 4 basic mathematical operations?"
      ],
      "metadata": {
        "id": "TWwzGLcwST3U"
      }
    },
    {
      "cell_type": "code",
      "source": [
        "# define functions for addition, subtraction, multiplication and division\n",
        "def add(x, y):\n",
        "    return x + y\n",
        "\n",
        "def subtract(x, y):\n",
        "    return x - y\n",
        "\n",
        "def multiply(x, y):\n",
        "    return x * y\n",
        "\n",
        "def divide(x, y):\n",
        "    return x / y\n",
        "\n",
        "# taking input from the user\n",
        "num1 = float(input(\"Enter first number: \"))\n",
        "num2 = float(input(\"Enter second number: \"))\n",
        "\n",
        "# display the menu of operations to the user\n",
        "print(\"Select an operation:\")\n",
        "print(\"1. Addition\")\n",
        "print(\"2. Subtraction\")\n",
        "print(\"3. Multiplication\")\n",
        "print(\"4. Division\")\n",
        "\n",
        "# take input from the user for the operation to perform\n",
        "choice = input(\"Enter choice (1/2/3/4): \")\n",
        "\n",
        "# perform the selected operation and print the result\n",
        "if choice == '1':\n",
        "    print(num1, \"+\", num2, \"=\", add(num1, num2))\n",
        "\n",
        "elif choice == '2':\n",
        "    print(num1, \"-\", num2, \"=\", subtract(num1, num2))\n",
        "\n",
        "elif choice == '3':\n",
        "    print(num1, \"*\", num2, \"=\", multiply(num1, num2))\n",
        "\n",
        "elif choice == '4':\n",
        "    print(num1, \"/\", num2, \"=\", divide(num1, num2))\n",
        "\n",
        "else:\n",
        "    print(\"Invalid input\")\n"
      ],
      "metadata": {
        "colab": {
          "base_uri": "https://localhost:8080/"
        },
        "id": "5-TYWzi7SM2p",
        "outputId": "540f007e-b701-4807-8c1f-6cd6824633ac"
      },
      "execution_count": 5,
      "outputs": [
        {
          "output_type": "stream",
          "name": "stdout",
          "text": [
            "Enter first number: 5\n",
            "Enter second number: 5\n",
            "Select an operation:\n",
            "1. Addition\n",
            "2. Subtraction\n",
            "3. Multiplication\n",
            "4. Division\n",
            "Enter choice (1/2/3/4): 2\n",
            "5.0 - 5.0 = 0.0\n"
          ]
        }
      ]
    },
    {
      "cell_type": "code",
      "source": [],
      "metadata": {
        "id": "e06hc1JdShOt"
      },
      "execution_count": null,
      "outputs": []
    }
  ]
}