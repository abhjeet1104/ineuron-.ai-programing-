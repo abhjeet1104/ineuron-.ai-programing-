{
  "nbformat": 4,
  "nbformat_minor": 0,
  "metadata": {
    "colab": {
      "provenance": []
    },
    "kernelspec": {
      "name": "python3",
      "display_name": "Python 3"
    },
    "language_info": {
      "name": "python"
    }
  },
  "cells": [
    {
      "cell_type": "markdown",
      "source": [
        "#11.\tWrite a Python Program to Find the Factorial of a Number?"
      ],
      "metadata": {
        "id": "V6E_vnFVMYrm"
      }
    },
    {
      "cell_type": "code",
      "execution_count": 2,
      "metadata": {
        "colab": {
          "base_uri": "https://localhost:8080/"
        },
        "id": "fqoZVklQKCnL",
        "outputId": "c8ab8f67-1d5b-4c3b-a46c-3058198a98a7"
      },
      "outputs": [
        {
          "output_type": "stream",
          "name": "stdout",
          "text": [
            "Enter a number: 2\n",
            "Factorial of 2 is 2\n"
          ]
        }
      ],
      "source": [
        "num = int(input(\"Enter a number: \"))\n",
        "factorial = 1\n",
        "\n",
        "if num < 0:\n",
        "   print(\"Factorial does not exist for negative numbers\")\n",
        "elif num == 0:\n",
        "   print(\"Factorial of 0 is 1\")\n",
        "else:\n",
        "   for i in range(1,num + 1):\n",
        "       factorial = factorial*i\n",
        "   print(\"Factorial of\",num,\"is\",factorial)\n"
      ]
    },
    {
      "cell_type": "markdown",
      "source": [
        "#2.\tWrite a Python Program to Display the multiplication Table?"
      ],
      "metadata": {
        "id": "5WvmJlVeMrn5"
      }
    },
    {
      "cell_type": "code",
      "source": [
        "num = int(input(\"Enter a number: \"))\n",
        "\n",
        "# using nested loop to display multiplication table\n",
        "for i in range(1, 11):\n",
        "    print(num, \"x\", i, \"=\", num*i)\n"
      ],
      "metadata": {
        "colab": {
          "base_uri": "https://localhost:8080/"
        },
        "id": "3mmfvT40Mimv",
        "outputId": "df546073-f236-4db9-c786-67b065a0776e"
      },
      "execution_count": 3,
      "outputs": [
        {
          "output_type": "stream",
          "name": "stdout",
          "text": [
            "Enter a number: 5\n",
            "5 x 1 = 5\n",
            "5 x 2 = 10\n",
            "5 x 3 = 15\n",
            "5 x 4 = 20\n",
            "5 x 5 = 25\n",
            "5 x 6 = 30\n",
            "5 x 7 = 35\n",
            "5 x 8 = 40\n",
            "5 x 9 = 45\n",
            "5 x 10 = 50\n"
          ]
        }
      ]
    },
    {
      "cell_type": "markdown",
      "source": [
        "#3.\tWrite a Python Program to Print the Fibonacci sequence?"
      ],
      "metadata": {
        "id": "kcYGQxjANFr4"
      }
    },
    {
      "cell_type": "code",
      "source": [
        "nterms = int(input(\"Enter the number of terms: \"))\n",
        "\n",
        "# initial values for first two terms of the sequence\n",
        "n1, n2 = 0, 1\n",
        "count = 0\n",
        "\n",
        "# check if the number of terms is valid\n",
        "if nterms <= 0:\n",
        "   print(\"Please enter a positive integer\")\n",
        "elif nterms == 1:\n",
        "   print(\"Fibonacci sequence up to\", nterms, \"term:\")\n",
        "   print(n1)\n",
        "else:\n",
        "   print(\"Fibonacci sequence up to\", nterms, \"terms:\")\n",
        "   while count < nterms:\n",
        "       print(n1)\n",
        "       nth = n1 + n2\n",
        "       # update values of n1 and n2 for next iteration\n",
        "       n1 = n2\n",
        "       n2 = nth\n",
        "       count += 1\n"
      ],
      "metadata": {
        "colab": {
          "base_uri": "https://localhost:8080/"
        },
        "id": "8U1he78vM5bA",
        "outputId": "6a4a6ddd-8504-469e-be14-049cd4f01295"
      },
      "execution_count": 4,
      "outputs": [
        {
          "output_type": "stream",
          "name": "stdout",
          "text": [
            "Enter the number of terms: 8\n",
            "Fibonacci sequence up to 8 terms:\n",
            "0\n",
            "1\n",
            "1\n",
            "2\n",
            "3\n",
            "5\n",
            "8\n",
            "13\n"
          ]
        }
      ]
    },
    {
      "cell_type": "markdown",
      "source": [
        "#4.\tWrite a Python Program to Check Armstrong Number?"
      ],
      "metadata": {
        "id": "62Q_ujTpNR7_"
      }
    },
    {
      "cell_type": "code",
      "source": [
        "num = int(input(\"Enter a number: \"))  # taking input from the user\n",
        "\n",
        "# find the number of digits in the input number\n",
        "num_str = str(num)\n",
        "num_len = len(num_str)\n",
        "\n",
        "# initialize the sum variable\n",
        "sum = 0\n",
        "\n",
        "# loop through each digit of the number\n",
        "for digit in num_str:\n",
        "    sum += int(digit) ** num_len  # add the cube of each digit to the sum\n",
        "\n",
        "# check if the sum is equal to the input number\n",
        "if sum == num:\n",
        "    print(num, \"is an Armstrong number\")\n",
        "else:\n",
        "    print(num, \"is not an Armstrong number\")\n"
      ],
      "metadata": {
        "colab": {
          "base_uri": "https://localhost:8080/"
        },
        "id": "w1ehfGvfNLLg",
        "outputId": "24e37d79-6bea-46d5-9e2e-7f2663eefdf5"
      },
      "execution_count": 5,
      "outputs": [
        {
          "output_type": "stream",
          "name": "stdout",
          "text": [
            "Enter a number: 55\n",
            "55 is not an Armstrong number\n"
          ]
        }
      ]
    },
    {
      "cell_type": "markdown",
      "source": [
        "#5.\tWrite a Python Program to Find Armstrong Number in an Interval?"
      ],
      "metadata": {
        "id": "YOfDR1a5NzLq"
      }
    },
    {
      "cell_type": "code",
      "source": [
        "# taking input from the user for the interval\n",
        "lower = int(input(\"Enter lower range: \"))\n",
        "upper = int(input(\"Enter upper range: \"))\n",
        "\n",
        "print(\"Armstrong numbers between\", lower, \"and\", upper, \"are:\")\n",
        "\n",
        "for num in range(lower, upper + 1):\n",
        "    # find the number of digits in the input number\n",
        "    num_str = str(num)\n",
        "    num_len = len(num_str)\n",
        "\n",
        "    # initialize the sum variable\n",
        "    sum = 0\n",
        "\n",
        "    # loop through each digit of the number\n",
        "    for digit in num_str:\n",
        "        sum += int(digit) ** num_len  # add the cube of each digit to the sum\n",
        "\n",
        "    # check if the sum is equal to the input number\n",
        "    if sum == num:\n",
        "        print(num)\n"
      ],
      "metadata": {
        "colab": {
          "base_uri": "https://localhost:8080/"
        },
        "id": "gbwqNreiNtaw",
        "outputId": "4f6f63d9-196a-4480-9680-50dc3e122c6c"
      },
      "execution_count": 6,
      "outputs": [
        {
          "output_type": "stream",
          "name": "stdout",
          "text": [
            "Enter lower range: 45\n",
            "Enter upper range: 56\n",
            "Armstrong numbers between 45 and 56 are:\n"
          ]
        }
      ]
    },
    {
      "cell_type": "markdown",
      "source": [
        "#6.\tWrite a Python Program to Find the Sum of Natural Numbers?"
      ],
      "metadata": {
        "id": "m-u7mkJgOHqZ"
      }
    },
    {
      "cell_type": "code",
      "source": [
        "num = int(input(\"Enter a number: \"))\n",
        "\n",
        "# initialize the sum variable\n",
        "sum = 0\n",
        "\n",
        "# loop through each number up to the input number\n",
        "for i in range(1, num + 1):\n",
        "    sum += i  # add each number to the sum\n",
        "\n",
        "print(\"The sum of natural numbers up to\", num, \"is\", sum)\n"
      ],
      "metadata": {
        "colab": {
          "base_uri": "https://localhost:8080/"
        },
        "id": "mCxIpDq9N9uV",
        "outputId": "17949e6e-9fd8-416b-82b1-aefc77ac2aac"
      },
      "execution_count": 7,
      "outputs": [
        {
          "output_type": "stream",
          "name": "stdout",
          "text": [
            "Enter a number: 5\n",
            "The sum of natural numbers up to 5 is 15\n"
          ]
        }
      ]
    },
    {
      "cell_type": "code",
      "source": [],
      "metadata": {
        "id": "i53DKqToOPtN"
      },
      "execution_count": null,
      "outputs": []
    }
  ]
}