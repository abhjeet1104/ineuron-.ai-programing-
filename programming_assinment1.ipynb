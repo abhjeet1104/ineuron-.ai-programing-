{
  "nbformat": 4,
  "nbformat_minor": 0,
  "metadata": {
    "colab": {
      "provenance": []
    },
    "kernelspec": {
      "name": "python3",
      "display_name": "Python 3"
    },
    "language_info": {
      "name": "python"
    }
  },
  "cells": [
    {
      "cell_type": "markdown",
      "source": [
        "#1.\tWrite a Python program to print \"Hello Python\"?"
      ],
      "metadata": {
        "id": "TxEBXFkrawxR"
      }
    },
    {
      "cell_type": "code",
      "execution_count": 1,
      "metadata": {
        "colab": {
          "base_uri": "https://localhost:8080/"
        },
        "id": "9k_nu0EbahEU",
        "outputId": "a583c9d4-8f5e-4103-e041-1938bac8e37c"
      },
      "outputs": [
        {
          "output_type": "stream",
          "name": "stdout",
          "text": [
            "Hello Python\n"
          ]
        }
      ],
      "source": [
        "print(\"Hello Python\")\n"
      ]
    },
    {
      "cell_type": "markdown",
      "source": [
        "#2.\tWrite a Python program to do arithmetical operations addition and division.?"
      ],
      "metadata": {
        "id": "bhIXy-dEbB3j"
      }
    },
    {
      "cell_type": "code",
      "source": [
        "num1 = float(input(\"Enter first number: \"))\n",
        "num2 = float(input(\"Enter second number: \"))\n",
        "\n",
        "# Addition operation\n",
        "sum = num1 + num2\n",
        "print(\"The sum of\", num1, \"and\", num2, \"is\", sum)\n",
        "\n",
        "# Division operation\n",
        "if num2 == 0:\n",
        "    print(\"Cannot divide by zero\")\n",
        "else:\n",
        "    quotient = num1 / num2\n",
        "    print(\"The quotient of\", num1, \"divided by\", num2, \"is\", quotient)\n"
      ],
      "metadata": {
        "colab": {
          "base_uri": "https://localhost:8080/"
        },
        "id": "LQo5PeDXa8Gj",
        "outputId": "6d9e1db3-7055-4c25-e829-01628ebb0a97"
      },
      "execution_count": 2,
      "outputs": [
        {
          "output_type": "stream",
          "name": "stdout",
          "text": [
            "Enter first number: 4\n",
            "Enter second number: 8\n",
            "The sum of 4.0 and 8.0 is 12.0\n",
            "The quotient of 4.0 divided by 8.0 is 0.5\n"
          ]
        }
      ]
    },
    {
      "cell_type": "markdown",
      "source": [
        "#3.\tWrite a Python program to find the area of a triangle?"
      ],
      "metadata": {
        "id": "V81eoMsybRs8"
      }
    },
    {
      "cell_type": "code",
      "source": [
        "base = float(input(\"Enter the base of the triangle: \"))\n",
        "height = float(input(\"Enter the height of the triangle: \"))\n",
        "\n",
        "area = 0.5 * base * height\n",
        "\n",
        "print(\"The area of the triangle with base\", base, \"and height\", height, \"is\", area)\n"
      ],
      "metadata": {
        "colab": {
          "base_uri": "https://localhost:8080/"
        },
        "id": "01qiqKAqbMSz",
        "outputId": "1f6e9a05-8a4b-445f-9082-9c4937196f23"
      },
      "execution_count": 3,
      "outputs": [
        {
          "output_type": "stream",
          "name": "stdout",
          "text": [
            "Enter the base of the triangle: 8\n",
            "Enter the height of the triangle: 5\n",
            "The area of the triangle with base 8.0 and height 5.0 is 20.0\n"
          ]
        }
      ]
    },
    {
      "cell_type": "markdown",
      "source": [
        "#4.\tWrite a Python program to swap two variables?"
      ],
      "metadata": {
        "id": "3DRJMob6blAx"
      }
    },
    {
      "cell_type": "code",
      "source": [
        "a = input(\"Enter the value of a: \")\n",
        "b = input(\"Enter the value of b: \")\n",
        "\n",
        "print(\"Before swapping:\")\n",
        "print(\"a =\", a)\n",
        "print(\"b =\", b)\n",
        "\n",
        "# Swapping the values\n",
        "temp = a\n",
        "a = b\n",
        "b = temp\n",
        "\n",
        "print(\"After swapping:\")\n",
        "print(\"a =\", a)\n",
        "print(\"b =\", b)\n"
      ],
      "metadata": {
        "colab": {
          "base_uri": "https://localhost:8080/"
        },
        "id": "WM1bYNCqbdYA",
        "outputId": "932488e6-f6d6-42ca-c6e1-5206fea32eeb"
      },
      "execution_count": 4,
      "outputs": [
        {
          "output_type": "stream",
          "name": "stdout",
          "text": [
            "Enter the value of a: 8\n",
            "Enter the value of b: 9\n",
            "Before swapping:\n",
            "a = 8\n",
            "b = 9\n",
            "After swapping:\n",
            "a = 9\n",
            "b = 8\n"
          ]
        }
      ]
    },
    {
      "cell_type": "markdown",
      "source": [
        "#5.\tWrite a Python program to generate a random number?"
      ],
      "metadata": {
        "id": "80rjiMpIb8BV"
      }
    },
    {
      "cell_type": "code",
      "source": [
        "import random\n",
        "\n",
        "min_num = int(input(\"Enter the minimum number: \"))\n",
        "max_num = int(input(\"Enter the maximum number: \"))\n",
        "\n",
        "random_num = random.randint(min_num, max_num)\n",
        "\n",
        "print(\"The random number between\", min_num, \"and\", max_num, \"is:\", random_num)\n"
      ],
      "metadata": {
        "colab": {
          "base_uri": "https://localhost:8080/"
        },
        "id": "6shobPi5bwZ3",
        "outputId": "fda370a6-a361-45b2-c888-b8e7df799b97"
      },
      "execution_count": 5,
      "outputs": [
        {
          "output_type": "stream",
          "name": "stdout",
          "text": [
            "Enter the minimum number: 2\n",
            "Enter the maximum number: 9\n",
            "The random number between 2 and 9 is: 3\n"
          ]
        }
      ]
    },
    {
      "cell_type": "code",
      "source": [],
      "metadata": {
        "id": "iwwx42PpcEnK"
      },
      "execution_count": null,
      "outputs": []
    }
  ]
}